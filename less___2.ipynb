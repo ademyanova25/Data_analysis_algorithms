{
 "cells": [
  {
   "cell_type": "markdown",
   "id": "291f4989",
   "metadata": {},
   "source": [
    "Постройте график зависимости весов всех признаков от lambda в самописной L2-регуляризации (на данных про ЕГЭ). Сделайте вывод\n",
    "\n",
    "Напишите функцию наподобие gradient_descent_reg_l2, но для применения L1-регуляризации.\n",
    "\n",
    "*Можно ли к одному и тому же признаку применить сразу и нормализацию, и стандартизацию?\n",
    "\n",
    "*Сгенерируйте датасет при помощи sklearn.datasets.make_regression и обучите линейную модель при помощи градиентного и стохастического градиентного спуска. Нанесите среднеквадратичную ошибку для обоих методов на один график, сделайте выводы о разнице скорости сходимости каждого из методов."
   ]
  },
  {
   "cell_type": "code",
   "execution_count": 3,
   "id": "6efe607e",
   "metadata": {},
   "outputs": [],
   "source": [
    "import numpy as np\n",
    "import matplotlib.pyplot as plt"
   ]
  },
  {
   "cell_type": "code",
   "execution_count": 4,
   "id": "20c46d0b",
   "metadata": {},
   "outputs": [],
   "source": [
    "X = np.array([[   1,    1,  500,    1],\n",
    "              [   1,    1,  700,    1],\n",
    "              [   1,    2,  750,    2],\n",
    "              [   1,    5,  600,    1],\n",
    "              [   1,    3, 1450,    2],\n",
    "              [   1,    0,  800,    1],\n",
    "              [   1,    5, 1500,    3],\n",
    "              [   1,   10, 2000,    3],\n",
    "              [   1,    1,  450,    1],\n",
    "              [   1,    2, 1000,    2]])\n",
    "\n",
    "y = [45, 55, 50, 55, 60, 35, 75, 80, 50, 60]"
   ]
  },
  {
   "cell_type": "markdown",
   "id": "b66913c6",
   "metadata": {},
   "source": [
    "Постройте график зависимости весов всех признаков от lambda в самописной L2-регуляризации (на данных про ЕГЭ). Сделайте вывод"
   ]
  },
  {
   "cell_type": "code",
   "execution_count": 18,
   "id": "4a62f135",
   "metadata": {},
   "outputs": [
    {
     "data": {
      "text/plain": [
       "(0, 10)"
      ]
     },
     "execution_count": 18,
     "metadata": {},
     "output_type": "execute_result"
    }
   ],
   "source": [
    "X[:, 1].min(), X[:, 1].max()"
   ]
  },
  {
   "cell_type": "code",
   "execution_count": 19,
   "id": "2d244352",
   "metadata": {},
   "outputs": [
    {
     "data": {
      "text/plain": [
       "(450, 2000)"
      ]
     },
     "execution_count": 19,
     "metadata": {},
     "output_type": "execute_result"
    }
   ],
   "source": [
    "X[:, 2].min(), X[:, 2].max()"
   ]
  },
  {
   "cell_type": "code",
   "execution_count": 20,
   "id": "51869efa",
   "metadata": {},
   "outputs": [],
   "source": [
    "def min_max_scale(X):\n",
    "    return (X - X.min()) / (X.max() - X.min())"
   ]
  },
  {
   "cell_type": "code",
   "execution_count": 21,
   "id": "a6e74aaf",
   "metadata": {},
   "outputs": [
    {
     "data": {
      "text/plain": [
       "array([[1.00e+00, 1.00e+00, 5.00e+02, 1.00e+00],\n",
       "       [1.00e+00, 1.00e+00, 7.00e+02, 1.00e+00],\n",
       "       [1.00e+00, 2.00e+00, 7.50e+02, 2.00e+00],\n",
       "       [1.00e+00, 5.00e+00, 6.00e+02, 1.00e+00],\n",
       "       [1.00e+00, 3.00e+00, 1.45e+03, 2.00e+00],\n",
       "       [1.00e+00, 0.00e+00, 8.00e+02, 1.00e+00],\n",
       "       [1.00e+00, 5.00e+00, 1.50e+03, 3.00e+00],\n",
       "       [1.00e+00, 1.00e+01, 2.00e+03, 3.00e+00],\n",
       "       [1.00e+00, 1.00e+00, 4.50e+02, 1.00e+00],\n",
       "       [1.00e+00, 2.00e+00, 1.00e+03, 2.00e+00]])"
      ]
     },
     "execution_count": 21,
     "metadata": {},
     "output_type": "execute_result"
    }
   ],
   "source": [
    "X_norm = X.copy()\n",
    "X_norm = X_norm.astype(np.float64)\n",
    "X_norm"
   ]
  },
  {
   "cell_type": "code",
   "execution_count": 22,
   "id": "996b25a1",
   "metadata": {},
   "outputs": [
    {
     "data": {
      "text/plain": [
       "array([[1.        , 0.1       , 0.03225806, 0.        ],\n",
       "       [1.        , 0.1       , 0.16129032, 0.        ],\n",
       "       [1.        , 0.2       , 0.19354839, 0.5       ],\n",
       "       [1.        , 0.5       , 0.09677419, 0.        ],\n",
       "       [1.        , 0.3       , 0.64516129, 0.5       ],\n",
       "       [1.        , 0.        , 0.22580645, 0.        ],\n",
       "       [1.        , 0.5       , 0.67741935, 1.        ],\n",
       "       [1.        , 1.        , 1.        , 1.        ],\n",
       "       [1.        , 0.1       , 0.        , 0.        ],\n",
       "       [1.        , 0.2       , 0.35483871, 0.5       ]])"
      ]
     },
     "execution_count": 22,
     "metadata": {},
     "output_type": "execute_result"
    }
   ],
   "source": [
    "X_norm[:, 1] = min_max_scale(X_norm[:, 1])\n",
    "X_norm[:, 2] = min_max_scale(X_norm[:, 2])\n",
    "X_norm[:, 3] = min_max_scale(X_norm[:, 3])\n",
    "X_norm"
   ]
  },
  {
   "cell_type": "code",
   "execution_count": 25,
   "id": "0738a3cc",
   "metadata": {},
   "outputs": [],
   "source": [
    "def standard_scale(X):\n",
    "    mean = X.mean()\n",
    "    std = X.std()\n",
    "    return (X - mean) / std"
   ]
  },
  {
   "cell_type": "code",
   "execution_count": 26,
   "id": "8a3a4e9c",
   "metadata": {},
   "outputs": [
    {
     "data": {
      "text/plain": [
       "array([[ 1.        , -0.70710678, -0.97958969, -0.89625816],\n",
       "       [ 1.        , -0.70710678, -0.56713087, -0.89625816],\n",
       "       [ 1.        , -0.35355339, -0.46401617,  0.38411064],\n",
       "       [ 1.        ,  0.70710678, -0.77336028, -0.89625816],\n",
       "       [ 1.        ,  0.        ,  0.97958969,  0.38411064],\n",
       "       [ 1.        , -1.06066017, -0.36090146, -0.89625816],\n",
       "       [ 1.        ,  0.70710678,  1.08270439,  1.66447944],\n",
       "       [ 1.        ,  2.47487373,  2.11385144,  1.66447944],\n",
       "       [ 1.        , -0.70710678, -1.08270439, -0.89625816],\n",
       "       [ 1.        , -0.35355339,  0.05155735,  0.38411064]])"
      ]
     },
     "execution_count": 26,
     "metadata": {},
     "output_type": "execute_result"
    }
   ],
   "source": [
    "X_st = X.copy().astype(np.float64)\n",
    "X_st[:, 1] = standard_scale(X_st[:, 1])\n",
    "X_st[:, 2] = standard_scale(X_st[:, 2])\n",
    "X_st[:, 3] = standard_scale(X_st[:, 3])\n",
    "\n",
    "X_st"
   ]
  },
  {
   "cell_type": "code",
   "execution_count": 27,
   "id": "f2b506e0",
   "metadata": {},
   "outputs": [],
   "source": [
    "def calc_mse(y, y_pred):\n",
    "    err = np.mean((y - y_pred)**2)\n",
    "    return err"
   ]
  },
  {
   "cell_type": "code",
   "execution_count": 57,
   "id": "4036c2e8",
   "metadata": {},
   "outputs": [],
   "source": [
    "def gradient_descent_reg_l2(X, y, iterations, eta=1e-4, reg=1e-8):\n",
    "    W = np.random.randn(X.shape[1])\n",
    "    n = X.shape[0]\n",
    "    \n",
    "    for i in range(0, iterations):\n",
    "        y_pred = np.dot(X, W)\n",
    "        err = calc_mse(y, y_pred)\n",
    "        \n",
    "        dQ = 2/n * X.T @ (y_pred - y) # градиент функции ошибки\n",
    "        dReg = reg * W # градиент регуляризации\n",
    "        \n",
    "        W -= eta * (dQ + dReg)\n",
    "    return W"
   ]
  },
  {
   "cell_type": "code",
   "execution_count": 58,
   "id": "3dd87672",
   "metadata": {},
   "outputs": [
    {
     "data": {
      "text/plain": [
       "array([44.1832201 , 20.57161116,  3.05539527, 14.59208732])"
      ]
     },
     "execution_count": 58,
     "metadata": {},
     "output_type": "execute_result"
    }
   ],
   "source": [
    "gradient_descent_reg_l2(X_norm, y, iterations=5000, eta=1e-2, reg=1e-4)"
   ]
  },
  {
   "cell_type": "code",
   "execution_count": 59,
   "id": "c760932a",
   "metadata": {},
   "outputs": [],
   "source": [
    "from tqdm import tqdm"
   ]
  },
  {
   "cell_type": "code",
   "execution_count": 60,
   "id": "5f895cb0",
   "metadata": {},
   "outputs": [
    {
     "name": "stderr",
     "output_type": "stream",
     "text": [
      "10it [00:01,  8.82it/s]\n"
     ]
    },
    {
     "data": {
      "image/png": "[encoded data removed]",
      "text/plain": [
       "<Figure size 720x360 with 1 Axes>"
      ]
     },
     "metadata": {
      "needs_background": "light"
     },
     "output_type": "display_data"
    }
   ],
   "source": [
    "n = X.shape[0]\n",
    "coeffs = np.zeros((n, X_norm.shape[1]))\n",
    "lambda_list = np.linspace(0, 1, 10)\n",
    "\n",
    "for i, val in tqdm(enumerate(lambda_list)):\n",
    "    weights = gradient_descent_reg_l2(X_norm, y, iterations=5000, eta=1e-2, reg=val)\n",
    "    coeffs[i, :] = weights\n",
    "\n",
    "plt.figure(figsize=(10, 5))\n",
    "for i in range(X_norm.shape[1]):\n",
    "    plt.plot(lambda_list, coeffs[:, i])\n",
    "    \n",
    "plt.title('Зависимость абсолютных значений весов признаков от коэффициента регуляризации')\n",
    "plt.xlabel('lambda')\n",
    "plt.ylabel('Абсолютный вес признака');"
   ]
  },
  {
   "cell_type": "markdown",
   "id": "2722840b",
   "metadata": {},
   "source": [
    "2. Напишите функцию наподобие gradient_descent_reg_l2, но для применения L1-регуляризации."
   ]
  },
  {
   "cell_type": "code",
   "execution_count": 49,
   "id": "e64262fe",
   "metadata": {},
   "outputs": [],
   "source": [
    "def gradient_descent_L1(X, y, iterations, eta=1e-4, reg=1e-8):\n",
    "    W = np.random.randn(X.shape[1])\n",
    "    n = X.shape[0]\n",
    "    \n",
    "    for i in range(0, iterations):\n",
    "        y_pred = np.dot(X, W)\n",
    "        err = calc_mse(y, y_pred)\n",
    "        \n",
    "        dQ = 2/n * X.T @ (y_pred - y) # градиент функции ошибки\n",
    "        dReg = reg * np.sign(W) # градиент регуляризации\n",
    "        \n",
    "        W -= eta * dQ + dReg\n",
    "        \n",
    "        if i % (iterations / 10) == 0:\n",
    "            print(f'Iter: {i}, weights: {W}, error {err}')\n",
    "    \n",
    "    print(f'Final MSE: {calc_mse(y, np.dot(X, W))}')\n",
    "    return W"
   ]
  },
  {
   "cell_type": "code",
   "execution_count": 51,
   "id": "eb9ae55b",
   "metadata": {},
   "outputs": [
    {
     "name": "stdout",
     "output_type": "stream",
     "text": [
      "Iter: 0, weights: [ 1.35682617  0.17319472  0.16020649 -0.33654634], error 3389.400038366465\n",
      "Iter: 1000, weights: [44.10608522 15.27755234 10.08156208 12.52654531], error 27.38484392716834\n",
      "Iter: 2000, weights: [44.1415857  17.45884808  7.73244815 12.86326318], error 26.332279593986236\n",
      "Iter: 3000, weights: [44.14199583 18.88699969  5.91345126 13.39572432], error 25.764231331856287\n",
      "Iter: 4000, weights: [44.15653315 19.83171726  4.47128576 13.93874933], error 25.4352494310565\n",
      "Iter: 5000, weights: [44.17665318 20.47453138  3.32593979 14.43830698], error 25.236600678419055\n",
      "Iter: 6000, weights: [44.19753527 20.92432786  2.41549399 14.87427649], error 25.113785083817575\n",
      "Iter: 7000, weights: [44.21692571 21.24731005  1.69130476 15.24316088], error 25.03688373075533\n",
      "Iter: 8000, weights: [44.23393666 21.48455927  1.1150023  15.54927857], error 24.988411058961532\n",
      "Iter: 9000, weights: [44.24837599 21.66218691  0.6562355  15.80010136], error 24.95775296549828\n",
      "Final MSE: 24.938328334600264\n"
     ]
    },
    {
     "data": {
      "text/plain": [
       "array([44.26037211, 21.79712253,  0.29127265, 16.00368663])"
      ]
     },
     "execution_count": 51,
     "metadata": {},
     "output_type": "execute_result"
    }
   ],
   "source": [
    "gradient_descent_L1(X_norm, y, iterations=10000, eta=1e-2, reg=1e-10)"
   ]
  },
  {
   "cell_type": "markdown",
   "id": "1acc8ad0",
   "metadata": {},
   "source": [
    "3. *Можно ли к одному и тому же признаку применить сразу и нормализацию, и стандартизацию?\n",
    "\n"
   ]
  },
  {
   "cell_type": "markdown",
   "id": "70755c5a",
   "metadata": {},
   "source": [
    "бессмысленно, тк последнее перекроет предыдущее"
   ]
  },
  {
   "cell_type": "markdown",
   "id": "44010278",
   "metadata": {},
   "source": [
    "4. *Сгенерируйте датасет при помощи sklearn.datasets.make_regression и обучите линейную модель при помощи градиентного и стохастического градиентного спуска. Нанесите среднеквадратичную ошибку для обоих методов на один график, сделайте выводы о разнице скорости сходимости каждого из методов."
   ]
  },
  {
   "cell_type": "code",
   "execution_count": null,
   "id": "8fb5b38c",
   "metadata": {},
   "outputs": [],
   "source": []
  }
 ],
 "metadata": {
  "kernelspec": {
   "display_name": "Python 3",
   "language": "python",
   "name": "python3"
  },
  "language_info": {
   "codemirror_mode": {
    "name": "ipython",
    "version": 3
   },
   "file_extension": ".py",
   "mimetype": "text/x-python",
   "name": "python",
   "nbconvert_exporter": "python",
   "pygments_lexer": "ipython3",
   "version": "3.8.8"
  }
 },
 "nbformat": 4,
 "nbformat_minor": 5
}
