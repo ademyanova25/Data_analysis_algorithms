{
 "cells": [
  {
   "cell_type": "markdown",
   "id": "0c69bec7",
   "metadata": {},
   "source": [
    "*Измените функцию calc_logloss так, чтобы нули по возможности не попадали в np.log.\n",
    "\n",
    "Подберите аргументы функции eval_model для логистической регрессии таким образом, чтобы log loss был минимальным.\n",
    "\n",
    "Создайте функцию calc_pred_proba, возвращающую предсказанную вероятность класса 1 (на вход подаются W, который уже посчитан функцией eval_model и X, на выходе - массив y_pred_proba).\n",
    "\n",
    "Создайте функцию calc_pred, возвращающую предсказанный класс (на вход подаются W, который уже посчитан функцией eval_model и X, на выходе - массив y_pred).\n",
    "\n",
    "*Реализуйте функции для подсчета Accuracy, матрицы ошибок, точности и полноты, а также F1 score.\n",
    "\n",
    "Могла ли модель переобучиться? Почему?"
   ]
  },
  {
   "cell_type": "code",
   "execution_count": 1,
   "id": "11587970",
   "metadata": {},
   "outputs": [],
   "source": [
    "import numpy as np\n",
    "import matplotlib.pyplot as plt"
   ]
  },
  {
   "cell_type": "code",
   "execution_count": 2,
   "id": "33aabf15",
   "metadata": {},
   "outputs": [],
   "source": [
    "X = np.array([ [   1,    1,  500,    1],\n",
    "               [   1,    1,  700,    1],\n",
    "               [   1,    2,  750,    2],\n",
    "               [   1,    5,  600,    1],\n",
    "               [   1,    3, 1450,    2],\n",
    "               [   1,    0,  800,    1],\n",
    "               [   1,    5, 1500,    3],\n",
    "               [   1,   10, 2000,    3],\n",
    "               [   1,    1,  450,    1],\n",
    "               [   1,    2, 1000,    2]], dtype=np.float64)\n",
    "\n",
    "y = np.array([0, 0, 1, 0, 1, 0, 1, 0, 1, 1], dtype=np.float64)"
   ]
  },
  {
   "cell_type": "code",
   "execution_count": 3,
   "id": "7169a7d8",
   "metadata": {},
   "outputs": [],
   "source": [
    "def standard_scale(x):\n",
    "    res = (x - x.mean()) / x.std()\n",
    "    return res"
   ]
  },
  {
   "cell_type": "code",
   "execution_count": 4,
   "id": "73c9c4b0",
   "metadata": {},
   "outputs": [],
   "source": [
    "X_st = X.copy()\n",
    "X_st[:, 2] = standard_scale(X[:, 2])"
   ]
  },
  {
   "cell_type": "code",
   "execution_count": 5,
   "id": "d68d9f45",
   "metadata": {},
   "outputs": [],
   "source": [
    "def calc_logloss(y, y_pred):\n",
    "    err = - np.mean(y * np.log(y_pred) + (1.0 - y) * np.log(1.0 - y_pred))\n",
    "    return err"
   ]
  },
  {
   "cell_type": "code",
   "execution_count": 6,
   "id": "ae4dff1d",
   "metadata": {},
   "outputs": [],
   "source": [
    "def sigmoid(z):\n",
    "    res = 1 / (1 + np.exp(-z))\n",
    "    return res"
   ]
  },
  {
   "cell_type": "code",
   "execution_count": 7,
   "id": "c4d05489",
   "metadata": {},
   "outputs": [],
   "source": [
    "z = np.linspace(-10, 10, 101)"
   ]
  },
  {
   "cell_type": "code",
   "execution_count": 8,
   "id": "689b11d4",
   "metadata": {},
   "outputs": [],
   "source": [
    "probabilities = sigmoid(z)"
   ]
  },
  {
   "cell_type": "code",
   "execution_count": 9,
   "id": "84221cbd",
   "metadata": {},
   "outputs": [
    {
     "data": {
      "image/png": "[encoded data removed]",
      "text/plain": [
       "<Figure size 432x288 with 1 Axes>"
      ]
     },
     "metadata": {
      "needs_background": "light"
     },
     "output_type": "display_data"
    }
   ],
   "source": [
    "plt.plot(z, probabilities)\n",
    "plt.show()"
   ]
  },
  {
   "cell_type": "code",
   "execution_count": 150,
   "id": "a698153c",
   "metadata": {},
   "outputs": [],
   "source": [
    "def eval_model(X, y, iterations, eta):\n",
    "    np.random.seed(42)\n",
    "    W = np.random.randn(X.shape[1])\n",
    "    n = X.shape[0]\n",
    "    \n",
    "    for i in range(iterations):\n",
    "        z = np.dot(X, W)\n",
    "        y_pred = sigmoid(z)\n",
    "        err = calc_logloss(y, y_pred)\n",
    "        \n",
    "        dQ = 1/n * X.T @ (y_pred - y)\n",
    "        W -= eta * dQ\n",
    "        if i % (iterations / 10) == 0:\n",
    "            print(i, W, err)\n",
    "    return W"
   ]
  },
  {
   "cell_type": "code",
   "execution_count": 151,
   "id": "c8c7087b",
   "metadata": {},
   "outputs": [
    {
     "name": "stdout",
     "output_type": "stream",
     "text": [
      "0 [ 0.49667621 -0.13840939  0.6476858   1.52297324] 1.1785956513536955\n",
      "50 [ 0.494784   -0.14564801  0.6475462   1.52014828] 1.1657984045140992\n",
      "100 [ 0.49290109 -0.15285535  0.64740132  1.51733474] 1.15311110978492\n",
      "150 [ 0.49102761 -0.16003088  0.64725118  1.51453281] 1.140535127214629\n",
      "200 [ 0.48916364 -0.16717404  0.64709581  1.51174267] 1.1280717943721248\n",
      "250 [ 0.48730929 -0.17428428  0.64693524  1.50896452] 1.1157224272733977\n",
      "300 [ 0.48546465 -0.18136107  0.64676951  1.50619853] 1.1034883215653966\n",
      "350 [ 0.48362982 -0.18840385  0.64659868  1.5034449 ] 1.0913707539585298\n",
      "400 [ 0.48180488 -0.19541206  0.64642281  1.50070383] 1.0793709838952013\n",
      "450 [ 0.47998993 -0.20238516  0.64624195  1.49797551] 1.0674902554374908\n"
     ]
    }
   ],
   "source": [
    "W = eval_model(X_st, y, iterations=500, eta=1e-4)"
   ]
  },
  {
   "cell_type": "markdown",
   "id": "b303c9c2",
   "metadata": {},
   "source": [
    "1) Измените функцию calc_logloss так, чтобы нули по возможности не попадали в np.log."
   ]
  },
  {
   "cell_type": "code",
   "execution_count": 152,
   "id": "945d292d",
   "metadata": {},
   "outputs": [],
   "source": [
    "def calc_logloss(y, y_pred, eps=1e-8):\n",
    "    err = - np.mean(y * np.log(y_pred + eps) + (1.0 - y) * np.log(1.0 - y_pred + eps))\n",
    "    return err"
   ]
  },
  {
   "cell_type": "markdown",
   "id": "3a600f25",
   "metadata": {},
   "source": [
    "2) Подберите аргументы функции eval_model для логистической регрессии таким образом, чтобы log loss был минимальным"
   ]
  },
  {
   "cell_type": "code",
   "execution_count": 153,
   "id": "cf47fb8e",
   "metadata": {},
   "outputs": [],
   "source": [
    "np.random.seed(42)\n",
    "\n",
    "def eval_model_1(X, y, iterations, eta):\n",
    "    W = np.random.randn(X.shape[1])\n",
    "    n = X.shape[0]\n",
    "    \n",
    "    for i in range(iterations):\n",
    "        z = np.dot(X, W)\n",
    "        y_pred = sigmoid(z)\n",
    "        err = calc_logloss(y, y_pred)\n",
    "        \n",
    "        dQ = 1/n * X.T @ (y_pred - y)\n",
    "        W -= eta * dQ\n",
    "    return [eta, iterations, W, err]"
   ]
  },
  {
   "cell_type": "code",
   "execution_count": 154,
   "id": "7943da4f",
   "metadata": {},
   "outputs": [],
   "source": [
    "a = 1e-1, 1e-09, 1e-07, 1e-05, 1e-01, 1e+00, 1e+01\n",
    "b = 5000, 10000, 20000, 40000, 60000, 80000, 100000"
   ]
  },
  {
   "cell_type": "code",
   "execution_count": 155,
   "id": "c10a2fb2",
   "metadata": {},
   "outputs": [],
   "source": [
    "results = []\n",
    "for a1 in a:\n",
    "    for b1 in b:\n",
    "        results.append(eval_model_1(X_st, y, b1, a1))"
   ]
  },
  {
   "cell_type": "code",
   "execution_count": 156,
   "id": "1f2dadf9",
   "metadata": {},
   "outputs": [],
   "source": [
    "min_test = [None, None, None, np.inf]\n",
    "for result in results:\n",
    "    if result[3] < min_test[3]:\n",
    "        min_test = result"
   ]
  },
  {
   "cell_type": "code",
   "execution_count": 157,
   "id": "3f558e04",
   "metadata": {},
   "outputs": [
    {
     "data": {
      "text/plain": [
       "[10.0,\n",
       " 100000,\n",
       " array([-222.97321742,  -15.72575421,  -66.06334631,  170.61073355]),\n",
       " 0.006735607004321355]"
      ]
     },
     "execution_count": 157,
     "metadata": {},
     "output_type": "execute_result"
    }
   ],
   "source": [
    "min_test"
   ]
  },
  {
   "cell_type": "code",
   "execution_count": 158,
   "id": "c6036952",
   "metadata": {},
   "outputs": [
    {
     "name": "stdout",
     "output_type": "stream",
     "text": [
      "0 [ -3.29715467 -14.6470242    0.37388435  -4.13843283] 1.1785956513536955\n",
      "10000 [-102.03004454   -8.24685704  -29.33695673   80.06488301] 0.04101280557323571\n",
      "20000 [-130.9201972   -10.02007802  -38.12208873  101.66697094] 0.02702407878304906\n",
      "30000 [-151.56963877  -11.29395108  -44.39541073  117.12034145] 0.01991267183387061\n",
      "40000 [-167.51884244  -12.28083327  -49.23808788  129.0622051 ] 0.015679948737315354\n",
      "50000 [-180.46437048  -13.08339146  -53.16735496  138.75818011] 0.012894768905874227\n",
      "60000 [-191.3365185   -13.75829576  -56.4664939   146.90301529] 0.010931691560468467\n",
      "70000 [-200.69627752  -14.33987081  -59.30619316  153.91596698] 0.00947742299244642\n",
      "80000 [-208.90643304  -14.85038347  -61.7967713   160.06830334] 0.008358778499767806\n",
      "90000 [-216.21444013  -15.30505739  -64.01344401  165.54512735] 0.007472641734229024\n"
     ]
    }
   ],
   "source": [
    "W = eval_model(X_st, y, iterations=min_test[1], eta=min_test[0])"
   ]
  },
  {
   "cell_type": "markdown",
   "id": "f666d629",
   "metadata": {},
   "source": [
    "3) Создайте функцию calc_pred_proba, возвращающую предсказанную вероятность класса 1 (на вход подаются W, который уже посчитан функцией eval_model и X, на выходе - массив y_pred_proba)."
   ]
  },
  {
   "cell_type": "code",
   "execution_count": 159,
   "id": "cd2afed0",
   "metadata": {},
   "outputs": [
    {
     "data": {
      "text/plain": [
       "array([3.32306840e-02, 5.15261077e-14, 1.00000000e+00, 2.11295083e-35,\n",
       "       9.98262074e-01, 4.21445010e-13, 1.00000000e+00, 3.20928413e-04,\n",
       "       9.68812815e-01, 1.00000000e+00])"
      ]
     },
     "execution_count": 159,
     "metadata": {},
     "output_type": "execute_result"
    }
   ],
   "source": [
    "def calc_pred_proba(W, X):\n",
    "    z = np.dot(X, W)\n",
    "    y_pred_proba = sigmoid(z)\n",
    "    return y_pred_proba\n",
    "\n",
    "y_proba = calc_pred_proba(W, X_st)\n",
    "y_proba"
   ]
  },
  {
   "cell_type": "markdown",
   "id": "2c05e016",
   "metadata": {},
   "source": [
    "4) Создайте функцию calc_pred, возвращающую предсказанный класс (на вход подаются W, который уже посчитан функцией eval_model и X, на выходе - массив y_pred)."
   ]
  },
  {
   "cell_type": "code",
   "execution_count": 160,
   "id": "90b31781",
   "metadata": {},
   "outputs": [
    {
     "data": {
      "text/plain": [
       "[0, 0, 1, 0, 1, 0, 1, 0, 1, 1]"
      ]
     },
     "execution_count": 160,
     "metadata": {},
     "output_type": "execute_result"
    }
   ],
   "source": [
    "def calc_pred(W, X, treshhold=0.5):\n",
    "    z = np.dot(X, W)\n",
    "    y_pred_proba = sigmoid(z)\n",
    "    y_pred = list(map(lambda x: 1 if x > treshhold else 0, y_pred_proba))\n",
    "    return y_pred\n",
    "\n",
    "y_pred = calc_pred(W, X_st)\n",
    "y_pred"
   ]
  },
  {
   "cell_type": "markdown",
   "id": "68d8f289",
   "metadata": {},
   "source": [
    "5) Реализуйте функции для подсчета Accuracy, матрицы ошибок, точности и полноты, а также F1 score."
   ]
  },
  {
   "cell_type": "code",
   "execution_count": 161,
   "id": "f61821d2",
   "metadata": {},
   "outputs": [],
   "source": [
    "def accuracy(y, predection):\n",
    "    return sum(y == y_pred) / len(y)"
   ]
  },
  {
   "cell_type": "code",
   "execution_count": 162,
   "id": "78486180",
   "metadata": {},
   "outputs": [
    {
     "data": {
      "text/plain": [
       "1.0"
      ]
     },
     "execution_count": 162,
     "metadata": {},
     "output_type": "execute_result"
    }
   ],
   "source": [
    "accuracy(y , y_pred)"
   ]
  },
  {
   "cell_type": "code",
   "execution_count": 163,
   "id": "4540e1d1",
   "metadata": {},
   "outputs": [],
   "source": [
    "def err_matrix(y, predection):\n",
    "    matrix = np.zeros((2, 2))\n",
    "    for i, value in enumerate(y):\n",
    "        if value == 1:\n",
    "            if predection[i] == value:\n",
    "                matrix[0][0] += 1\n",
    "            else:\n",
    "                 matrix[0][1] += 1\n",
    "        elif value == 0:\n",
    "            if predection[i] == value:\n",
    "                matrix[1][1] += 1\n",
    "            else:\n",
    "                 matrix[1][0] += 1\n",
    "    return matrix"
   ]
  },
  {
   "cell_type": "code",
   "execution_count": 164,
   "id": "cb612c9c",
   "metadata": {},
   "outputs": [
    {
     "data": {
      "text/plain": [
       "array([[5., 0.],\n",
       "       [0., 5.]])"
      ]
     },
     "execution_count": 164,
     "metadata": {},
     "output_type": "execute_result"
    }
   ],
   "source": [
    "err_matrix = err_matrix(y , y_pred)\n",
    "err_matrix"
   ]
  },
  {
   "cell_type": "code",
   "execution_count": 165,
   "id": "2ae380a8",
   "metadata": {},
   "outputs": [],
   "source": [
    "def precision(err_matrix):\n",
    "    return err_matrix[0][0] / (err_matrix[0][0] + err_matrix[0][1])"
   ]
  },
  {
   "cell_type": "code",
   "execution_count": 166,
   "id": "3bf86ead",
   "metadata": {},
   "outputs": [
    {
     "data": {
      "text/plain": [
       "1.0"
      ]
     },
     "execution_count": 166,
     "metadata": {},
     "output_type": "execute_result"
    }
   ],
   "source": [
    "precision(err_matrix)"
   ]
  },
  {
   "cell_type": "code",
   "execution_count": 167,
   "id": "611edabe",
   "metadata": {},
   "outputs": [],
   "source": [
    "def recall(err_matrix):\n",
    "    return err_matrix[0][0] / (err_matrix[0][0] + err_matrix[1][0])"
   ]
  },
  {
   "cell_type": "code",
   "execution_count": 168,
   "id": "9fa0d381",
   "metadata": {},
   "outputs": [
    {
     "data": {
      "text/plain": [
       "1.0"
      ]
     },
     "execution_count": 168,
     "metadata": {},
     "output_type": "execute_result"
    }
   ],
   "source": [
    "recall(err_matrix)"
   ]
  },
  {
   "cell_type": "code",
   "execution_count": 169,
   "id": "bdb85ae9",
   "metadata": {},
   "outputs": [],
   "source": [
    "def F1(err_matrix):\n",
    "    return 2 * precision(err_matrix) * recall(err_matrix) / (precision(err_matrix) + recall(err_matrix))"
   ]
  },
  {
   "cell_type": "code",
   "execution_count": 170,
   "id": "e429acd7",
   "metadata": {},
   "outputs": [
    {
     "data": {
      "text/plain": [
       "1.0"
      ]
     },
     "execution_count": 170,
     "metadata": {},
     "output_type": "execute_result"
    }
   ],
   "source": [
    "F1(err_matrix)"
   ]
  },
  {
   "cell_type": "markdown",
   "id": "8d7193bb",
   "metadata": {},
   "source": [
    "6) Могла ли модель переобучиться? Почему?"
   ]
  },
  {
   "cell_type": "markdown",
   "id": "30d29919",
   "metadata": {},
   "source": [
    "Переобучена. минамальный log loss привел к переобучению"
   ]
  },
  {
   "cell_type": "code",
   "execution_count": null,
   "id": "b1348c25",
   "metadata": {},
   "outputs": [],
   "source": []
  }
 ],
 "metadata": {
  "kernelspec": {
   "display_name": "Python 3",
   "language": "python",
   "name": "python3"
  },
  "language_info": {
   "codemirror_mode": {
    "name": "ipython",
    "version": 3
   },
   "file_extension": ".py",
   "mimetype": "text/x-python",
   "name": "python",
   "nbconvert_exporter": "python",
   "pygments_lexer": "ipython3",
   "version": "3.8.8"
  }
 },
 "nbformat": 4,
 "nbformat_minor": 5
}
