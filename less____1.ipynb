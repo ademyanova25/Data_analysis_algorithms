{
 "cells": [
  {
   "cell_type": "code",
   "execution_count": 64,
   "id": "766a609b",
   "metadata": {},
   "outputs": [],
   "source": [
    "import numpy as np\n",
    "import matplotlib.pyplot as plt\n",
    "from mpl_toolkits.mplot3d.axes3d import Axes3D"
   ]
  },
  {
   "cell_type": "code",
   "execution_count": 65,
   "id": "a2d98f81",
   "metadata": {},
   "outputs": [],
   "source": [
    "def calc_mae(y, y_pred):\n",
    "    err = np.mean(np.abs(y - y_pred))\n",
    "    return err\n",
    "\n",
    "def calc_mse(y, y_pred):\n",
    "    err = np.mean((y - y_pred)**2)\n",
    "    return err"
   ]
  },
  {
   "cell_type": "code",
   "execution_count": 66,
   "id": "3cf6fdb7",
   "metadata": {},
   "outputs": [],
   "source": [
    "X = np.array([[ 1,  1],\n",
    "              [ 1,  1],\n",
    "              [ 1,  2],\n",
    "              [ 1,  5],\n",
    "              [ 1,  3],\n",
    "              [ 1,  0],\n",
    "              [ 1,  5],\n",
    "              [ 1, 10],\n",
    "              [ 1,  1],\n",
    "              [ 1,  2]])\n",
    "\n",
    "y = [45, 55, 50, 55, 60, 35, 75, 80, 50, 60]"
   ]
  },
  {
   "cell_type": "markdown",
   "id": "cca51ffa",
   "metadata": {},
   "source": [
    "1. Подберите скорость обучения (eta) и количество итераций"
   ]
  },
  {
   "cell_type": "raw",
   "id": "59338a22",
   "metadata": {},
   "source": [
    "n = X.shape[0]\n",
    "\n",
    "eta = 0.1\n",
    "n_iter = 100\n",
    "\n",
    "W = np.array([1, 0.5])\n",
    "print(f'Number of objects = {n} \\\n",
    "       \\nLearning rate = {eta} \\\n",
    "       \\nInitial weights = {W} \\n')\n",
    "\n",
    "for i in range(n_iter):\n",
    "    y_pred = np.dot(X, W)\n",
    "    err = calc_mse(y, y_pred)\n",
    "    for k in range(W.shape[0]):\n",
    "        W[k] -= eta * (1/n * 2 * X[:, k] @ (y_pred - y))\n",
    "    if i % 10 == 0:\n",
    "        eta /= 1.1\n",
    "        print(f'Iteration #{i}: W_new = {W}, MSE = {round(err, 2)}')"
   ]
  },
  {
   "cell_type": "code",
   "execution_count": 67,
   "id": "cc1f2f0e",
   "metadata": {},
   "outputs": [],
   "source": [
    "def gradient_descent(eta, iterations, W, X=X, y=y):\n",
    "    n = X.shape[1]\n",
    "    err = np.inf\n",
    "    for i in range(iterations):\n",
    "        y_pred = np.dot(X, W)\n",
    "        err_new = calc_mse(y, y_pred)\n",
    "        if err_new < err:\n",
    "            err = err_new\n",
    "            for k in range(W.shape[0]):\n",
    "                W[k] -= eta * (1/n * 2 * X[:, k] @ (y_pred - y))\n",
    "        else:\n",
    "            return i-1, W, err\n",
    "    return i, W, err"
   ]
  },
  {
   "cell_type": "code",
   "execution_count": 70,
   "id": "f3bf6d61",
   "metadata": {},
   "outputs": [
    {
     "name": "stdout",
     "output_type": "stream",
     "text": [
      "\n",
      "\n",
      "Оптимальная альфа = 0.01 и оптимальное кол-во итераций = 1000.0. Минимальная ошибка = 43.96875000000021 \n"
     ]
    }
   ],
   "source": [
    "min_err = np.inf\n",
    "eta1 = ()\n",
    "iter1 = ()\n",
    "\n",
    "for eta in [1e-1, 1e-2, 1e-3, 1e-4, 1e-5]:\n",
    "    for iters in [1e1, 1e2, 1e3, 1e4, 1e5, 1e6]:\n",
    "        W = np.array([1, 0.5])\n",
    "        num, wi, err = gradient_descent(eta, int(iters), W)\n",
    "        if err < min_err:\n",
    "            min_err = err\n",
    "            eta1 = eta\n",
    "            iter1 = iters\n",
    "\n",
    "print(f'\\n\\nОптимальная альфа = {eta1} и оптимальное кол-во итераций = {iter1}. Минимальная ошибка = {min_err} ')"
   ]
  },
  {
   "cell_type": "code",
   "execution_count": 74,
   "id": "75a5f380",
   "metadata": {},
   "outputs": [
    {
     "name": "stdout",
     "output_type": "stream",
     "text": [
      "Iteration #0: W_new = [2.08 4.27], MSE = 3047.75\n",
      "Iteration #100: W_new = [26.92778597  7.10095078], MSE = 201.46\n",
      "Iteration #200: W_new = [36.55234278  5.3556858 ], MSE = 78.6\n",
      "Iteration #300: W_new = [40.78354544  4.58842244], MSE = 52.71\n",
      "Iteration #400: W_new = [42.77180005  4.22788312], MSE = 46.47\n",
      "Iteration #500: W_new = [43.76430815  4.04790708], MSE = 44.77\n",
      "Iteration #600: W_new = [44.28770223  3.95299763], MSE = 44.25\n",
      "Iteration #700: W_new = [44.57781114  3.90039085], MSE = 44.08\n",
      "Iteration #800: W_new = [44.74605536  3.86988236], MSE = 44.02\n",
      "Iteration #900: W_new = [44.84771779  3.85144744], MSE = 43.99\n",
      "Iteration #1000: W_new = [44.91148301  3.8398846 ], MSE = 43.98\n"
     ]
    }
   ],
   "source": [
    "n = X.shape[0]\n",
    "\n",
    "eta = eta1\n",
    "n_iter = int(iter1)\n",
    "\n",
    "W = np.array([1, 0.5])\n",
    "\n",
    "for i in range(n_iter+1):\n",
    "    y_pred = np.dot(X, W)\n",
    "    err = calc_mse(y, y_pred)\n",
    "    for k in range(W.shape[0]):\n",
    "        W[k] -= eta * (1/n * 2 * X[:, k] @ (y_pred - y))\n",
    "    if i % 100 == 0:\n",
    "        eta /= 1.1\n",
    "        print(f'Iteration #{i}: W_new = {W}, MSE = {round(err, 2)}')"
   ]
  },
  {
   "cell_type": "markdown",
   "id": "907b4432",
   "metadata": {},
   "source": [
    "2*. В этом коде мы избавляемся от итераций по весам, но тут есть ошибка, исправьте ее"
   ]
  },
  {
   "cell_type": "raw",
   "id": "7f199262",
   "metadata": {},
   "source": [
    "n = X.shape[0]\n",
    "\n",
    "eta = 1e-2 \n",
    "n_iter = 100\n",
    "\n",
    "W = np.array([1, 0.5])\n",
    "\n",
    "for i in range(n_iter):\n",
    "    y_pred = np.dot(X, W)\n",
    "    err = calc_mse(y, y_pred)\n",
    "#     for k in range(W.shape[0]):\n",
    "#         W[k] -= eta * (1/n * 2 * X[:, k] @ (y_pred - y))\n",
    "    # ИЗМЕНЕНИЯ\n",
    "    W -= eta * (1/n * 2 * np.dot(X, y_pred - y))\n",
    "    # ИЗМЕНЕНИЯ\n",
    "    #\n",
    "    if i % 10 == 0:\n",
    "        print(f'Iteration #{i}: W_new = {W}, MSE = {round(err,2)}')"
   ]
  },
  {
   "cell_type": "code",
   "execution_count": 85,
   "id": "543d99d8",
   "metadata": {},
   "outputs": [
    {
     "name": "stdout",
     "output_type": "stream",
     "text": [
      "Iteration #0: W_new = [2.08 4.27], MSE = 3047.75\n",
      "Iteration #10: W_new = [ 7.0011236 10.6169007], MSE = 738.65\n",
      "Iteration #20: W_new = [10.3486292  10.10603105], MSE = 622.03\n",
      "Iteration #30: W_new = [13.38789582  9.55618391], MSE = 525.24\n",
      "Iteration #40: W_new = [16.16088505  9.05336203], MSE = 444.66\n",
      "Iteration #50: W_new = [18.69110735  8.59454545], MSE = 377.58\n",
      "Iteration #60: W_new = [20.99981865  8.17589626], MSE = 321.72\n",
      "Iteration #70: W_new = [23.10641138  7.79389815], MSE = 275.22\n",
      "Iteration #80: W_new = [25.02858024  7.44534246], MSE = 236.5\n",
      "Iteration #90: W_new = [26.78247081  7.12730145], MSE = 204.27\n"
     ]
    }
   ],
   "source": [
    "n = X.shape[0]\n",
    "\n",
    "eta = 1e-2 \n",
    "n_iter = 100\n",
    "\n",
    "W = np.array([1, 0.5])\n",
    "\n",
    "for i in range(n_iter):\n",
    "    y_pred = np.dot(X, W)\n",
    "    err = calc_mse(y, y_pred)\n",
    "    \n",
    "    # надо транспонировать\n",
    "    \n",
    "    W -= eta * (1/n * 2 * np.dot(X.T, y_pred - y))\n",
    "    \n",
    "    if i % 10 == 0:\n",
    "        print(f'Iteration #{i}: W_new = {W}, MSE = {round(err,2)}')"
   ]
  },
  {
   "cell_type": "markdown",
   "id": "6a8cad62",
   "metadata": {},
   "source": [
    "3*. Вместо того, чтобы задавать количество итераций, задайте другое условие останова алгоритма - когда веса перестают изменяться меньше определенного порога  𝜖 ."
   ]
  },
  {
   "cell_type": "code",
   "execution_count": null,
   "id": "ef8cdfe2",
   "metadata": {},
   "outputs": [],
   "source": []
  }
 ],
 "metadata": {
  "kernelspec": {
   "display_name": "Python 3",
   "language": "python",
   "name": "python3"
  },
  "language_info": {
   "codemirror_mode": {
    "name": "ipython",
    "version": 3
   },
   "file_extension": ".py",
   "mimetype": "text/x-python",
   "name": "python",
   "nbconvert_exporter": "python",
   "pygments_lexer": "ipython3",
   "version": "3.8.8"
  }
 },
 "nbformat": 4,
 "nbformat_minor": 5
}
